{
 "cells": [
  {
   "cell_type": "code",
   "execution_count": 151,
   "metadata": {},
   "outputs": [],
   "source": [
    "import os\n",
    "import pickle\n",
    "import math\n",
    "import numpy as np\n",
    "from math import *\n",
    "from numpy.linalg import norm\n",
    "import matplotlib.pyplot as plt\n",
    "from sklearn.feature_extraction.text import ENGLISH_STOP_WORDS\n",
    "import graphviz\n",
    "from sklearn.datasets import load_iris\n",
    "from sklearn.model_selection import cross_val_score\n",
    "from sklearn.tree import DecisionTreeClassifier"
   ]
  },
  {
   "cell_type": "markdown",
   "metadata": {},
   "source": [
    "# Part 1. Finding largest differences between word counts"
   ]
  },
  {
   "cell_type": "code",
   "execution_count": 176,
   "metadata": {},
   "outputs": [],
   "source": [
    "def part1(seed = 1):\n",
    "    np.random.seed(seed)\n",
    "    fake_data = './data/clean_fake.txt'\n",
    "    real_data = './data/clean_real.txt'\n",
    "    fX_train, fy_train, fX_test, fy_test, fX_val, fy_val = get_datasets(fake_data)\n",
    "    rX_train, ry_train, rX_test, ry_test, rX_val, ry_val = get_datasets(real_data)\n",
    "    \n",
    "    fake = build_LM(fX_train)\n",
    "    real = build_LM(rX_train)\n",
    "    \n",
    "    word_diff = []\n",
    "    for word in fake.keys():\n",
    "        if word in real.keys():\n",
    "            word_diff.append((word, int(fake[word]-real[word])))\n",
    "        else:\n",
    "            word_diff.append((word,(fake[word])))\n",
    "    for word in real.keys():\n",
    "        if word not in fake.keys():\n",
    "            word_diff.append((word,-(real[word])))\n",
    "    word_diff = sorted(word_diff, key = lambda x: float(x[1]))\n",
    "    \n",
    "    print 'Three keywords that maybe useful for identifying real news: ', [i[0] for i in word_diff[-3:]]\n",
    "    print 'Three keywords that maybe useful for identifying fake news: ', [i[0] for i in word_diff[:3]]\n",
    "    realWord = word_diff[-3:]\n",
    "    fakeWord = word_diff[:3]\n",
    "    for word in realWord:\n",
    "        print 'The word ', word[0]\n",
    "        print 'occurs in real news '+ str(real[word[0]])+ ' times'\n",
    "        print 'occurs in fake news '+ str(fake[word[0]])+ ' times'\n",
    "        print 'difference is: ' + str(abs(int(word[1])))\n",
    "    for word in fakeWord:\n",
    "        print 'The word ', word[0]\n",
    "        print 'occurs in real news '+ str(real[word[0]])+ ' times'\n",
    "        print 'occurs in fake news '+ str(fake[word[0]])+ ' times'\n",
    "        print 'difference is: ' + str(abs(int(word[1])))\n",
    "    \n",
    "#     print realWord\n",
    "#     print fakeWord\n",
    "    "
   ]
  },
  {
   "cell_type": "code",
   "execution_count": 177,
   "metadata": {},
   "outputs": [
    {
     "name": "stdout",
     "output_type": "stream",
     "text": [
      "Three keywords that maybe useful for identifying real news:  ['a', 'hillary', 'the']\n",
      "Three keywords that maybe useful for identifying fake news:  ['donald', 'trump', 'trumps']\n",
      "The word  a\n",
      "occurs in real news 65 times\n",
      "occurs in fake news 116 times\n",
      "difference is: 51\n",
      "The word  hillary\n",
      "occurs in real news 10 times\n",
      "occurs in fake news 103 times\n",
      "difference is: 93\n",
      "The word  the\n",
      "occurs in real news 108 times\n",
      "occurs in fake news 245 times\n",
      "difference is: 137\n",
      "The word  donald\n",
      "occurs in real news 563 times\n",
      "occurs in fake news 161 times\n",
      "difference is: 402\n",
      "The word  trump\n",
      "occurs in real news 1219 times\n",
      "occurs in fake news 898 times\n",
      "difference is: 321\n",
      "The word  trumps\n",
      "occurs in real news 154 times\n",
      "occurs in fake news 3 times\n",
      "difference is: 151\n"
     ]
    }
   ],
   "source": [
    "part1(seed = 1)"
   ]
  },
  {
   "cell_type": "markdown",
   "metadata": {},
   "source": [
    "# Part 2. Naive Bayes Algorithm"
   ]
  },
  {
   "cell_type": "markdown",
   "metadata": {},
   "source": [
    "Some helper functions"
   ]
  },
  {
   "cell_type": "code",
   "execution_count": 9,
   "metadata": {},
   "outputs": [],
   "source": [
    "# Obtaining data from the source file\n",
    "# Split dataset into training 70%, validation 15%, and testing 15%.\n",
    "def get_datasets(file):\n",
    "    \n",
    "    # files = os.listdir(data_dir)\n",
    "    # for file in file_list:\n",
    "    X = []\n",
    "    y = []\n",
    "    \n",
    "    if file.split('.')[0][-4:] == 'fake':\n",
    "        y_l = 1     # Fake = 1, Real = 0\n",
    "    else:\n",
    "        y_l = 0\n",
    "        \n",
    "    file = open(file, 'r').read().split('\\n')\n",
    "    for line in file:\n",
    "        X.append(line)\n",
    "        y.append(y_l)\n",
    "    # Splitting the sets\n",
    "    (X_train, X_test, y_train, y_test) = train_test_split(X, y, test_size=0.30, seed=1)\n",
    "    (X_test, X_val, y_test, y_val) = train_test_split(X_test, y_test, test_size=0.50, seed=1)\n",
    "\n",
    "    return X_train, y_train, X_test, y_test, X_val, y_val\n",
    "\n",
    "def train_test_split(x,y,test_size=0,seed=411):\n",
    "    np.random.seed(seed)\n",
    "    x_test, x_train = x[:int(len(x)*test_size)], x[int(len(x)*test_size):]\n",
    "    y_test, y_train = y[:int(len(y)*test_size)], y[int(len(y)*test_size):]\n",
    "    return x_train, x_test, y_train, y_test\n",
    "\n",
    "def save_data(data, name):\n",
    "    with open(name + '.pickle', 'wb') as handle:\n",
    "        pickle.dump(data, handle, protocol=pickle.HIGHEST_PROTOCOL)\n",
    "    \n",
    "def load_data(name):\n",
    "    with open(name + '.pickle', 'rb') as handle:\n",
    "        saved_data = pickle.load(handle)\n",
    "    return saved_data\n",
    "\n",
    "def build_LM(dataset):\n",
    "    '''\n",
    "    Creating dictionary that has a word as key, then a value that is the count of the word\n",
    "    '''\n",
    "    LM = {}\n",
    "    # Adding counts\n",
    "    for sentence in dataset:\n",
    "        sentence = sentence.split()\n",
    "        once = [] # Keepping track of words in the sentence that has been added to the language model\n",
    "        for word in sentence:\n",
    "            if word not in once: \n",
    "                once.append(word)\n",
    "                if word not in LM.keys():\n",
    "                    LM[word] = 1\n",
    "                else:  # Duplicated words are not added into the dictionary count\n",
    "                    LM[word] += 1\n",
    "            else:\n",
    "                pass \n",
    "    return LM\n",
    "\n",
    "def prob(sentence, LM, m, p, total):    \n",
    "    '''\n",
    "    Input: sentence: process sentence, string\n",
    "    LM: Unigram model created by function build_LM\n",
    "    m, p: parameters\n",
    "    total: total number of sentences in the specific dataset(fake or real)\n",
    "    '''\n",
    "    sentence = sentence.split()\n",
    "    log_mle = 0\n",
    "    for w in sentence:\n",
    "        if w not in LM.keys():\n",
    "            n = m*p\n",
    "            d = total + m\n",
    "            log_prob = math.log(n/d)\n",
    "        else:\n",
    "            n = LM[w] + m*p\n",
    "            d = total + m\n",
    "            log_prob = math.log(n/d)\n",
    "        log_mle += log_prob\n",
    "    for w in LM.keys():\n",
    "        if w not in sentence:   # We have already included the case when w in sentence\n",
    "            n = LM[w] + m*p\n",
    "            d = total + m\n",
    "            log_prob = math.log(1-n/d)\n",
    "        log_mle += log_prob\n",
    "    prob = math.exp(log_mle)\n",
    "    return prob\n",
    "\n",
    "def accuracy(X_test, y_test, fake, real, f_n, r_n, m, p):\n",
    "    '''\n",
    "    inputs:\n",
    "        fake: Language model built in build_LM\n",
    "        real: Language model built in build_LM\n",
    "        X_test, y_test: test/validation cases and label\n",
    "    return:\n",
    "        accuracy of the testing cases\n",
    "    '''\n",
    "    count = 0.0\n",
    "    \n",
    "    pf = float(f_n/(f_n+r_n))\n",
    "    pr = float(1-pf)\n",
    "    \n",
    "    for i in range(len(X_test)-1):\n",
    "        fake_prob = prob(X_test[i], fake, m, p, f_n)*pf\n",
    "        real_prob = prob(X_test[i], real, m, p, r_n)*pr\n",
    "        if fake_prob > real_prob:\n",
    "            predict = 1\n",
    "        else:\n",
    "            predict = 0\n",
    "        if predict == y_test[i]:\n",
    "            count += 1\n",
    "    return count/len(X_test)\n",
    "  "
   ]
  },
  {
   "cell_type": "code",
   "execution_count": 10,
   "metadata": {},
   "outputs": [],
   "source": [
    "def naive_bayes(fX_train, fy_train, X_val, y_val, X_test, y_test, m, p):\n",
    "    # Building dictionaries that contains the Unigram informations, for each key 'word', the value is the count of word appearance\n",
    "    fake = build_LM(fX_train)\n",
    "    real = build_LM(rX_train)\n",
    " \n",
    "    # Saving data\n",
    "    # save_data(fake, 'fake')\n",
    "    # save_data(real, 'real')\n",
    "    # load data\n",
    "    # fake = load_data('fake')\n",
    "    # real = load_data('real')\n",
    "    \n",
    "    X_train = fX_train + rX_train\n",
    "    y_train = fy_train + ry_train\n",
    "    X_val = fX_val + rX_val\n",
    "    y_val = fy_val + ry_val\n",
    "    X_test = fX_test + rX_test\n",
    "    y_test = fy_test + ry_test\n",
    "    \n",
    "    f_n = float(len(fX_train))\n",
    "    r_n = float(len(rX_train))\n",
    "    \n",
    "    a_train = accuracy(X_train, y_train, fake, real, f_n, r_n, m, p)\n",
    "    a_val = accuracy(X_val, y_val, fake, real,f_n, r_n, m, p)\n",
    "    a_test = accuracy(X_test, y_test, fake, real,f_n, r_n, m, p)\n",
    "    \n",
    "    print 'p = ' + str(p)\n",
    "    print 'm = ' + str(m)\n",
    "    print('Accuracy on training set is '+ str(a_train))\n",
    "    print('Accuracy on validation set is '+ str(a_val))\n",
    "    print('Accuracy on test set is '+ str(a_test))\n",
    "   \n",
    "    return a_val"
   ]
  },
  {
   "cell_type": "code",
   "execution_count": 16,
   "metadata": {},
   "outputs": [
    {
     "name": "stdout",
     "output_type": "stream",
     "text": [
      "p = 0.01\n",
      "m = 50\n",
      "Accuracy on training set is 0.954565312363\n",
      "Accuracy on validation set is 0.869120654397\n",
      "Accuracy on test set is 0.875510204082\n",
      "p = 0.005\n",
      "m = 50\n",
      "Accuracy on training set is 0.964613368283\n",
      "Accuracy on validation set is 0.871165644172\n",
      "Accuracy on test set is 0.873469387755\n",
      "p = 0.001\n",
      "m = 50\n",
      "Accuracy on training set is 0.974224552206\n",
      "Accuracy on validation set is 0.869120654397\n",
      "Accuracy on test set is 0.869387755102\n",
      "p = 0.0005\n",
      "m = 50\n",
      "Accuracy on training set is 0.975972040192\n",
      "Accuracy on validation set is 0.862985685072\n",
      "Accuracy on test set is 0.863265306122\n",
      "p = 0.01\n",
      "m = 75\n",
      "Accuracy on training set is 0.948885976409\n",
      "Accuracy on validation set is 0.862985685072\n",
      "Accuracy on test set is 0.871428571429\n",
      "p = 0.005\n",
      "m = 75\n",
      "Accuracy on training set is 0.961555264308\n",
      "Accuracy on validation set is 0.869120654397\n",
      "Accuracy on test set is 0.873469387755\n",
      "p = 0.001\n",
      "m = 75\n",
      "Accuracy on training set is 0.971603320227\n",
      "Accuracy on validation set is 0.871165644172\n",
      "Accuracy on test set is 0.867346938776\n",
      "p = 0.0005\n",
      "m = 75\n",
      "Accuracy on training set is 0.975098296199\n",
      "Accuracy on validation set is 0.867075664622\n",
      "Accuracy on test set is 0.867346938776\n",
      "p = 0.01\n",
      "m = 100\n",
      "Accuracy on training set is 0.939711664482\n",
      "Accuracy on validation set is 0.867075664622\n",
      "Accuracy on test set is 0.869387755102\n",
      "p = 0.005\n",
      "m = 100\n",
      "Accuracy on training set is 0.958060288336\n",
      "Accuracy on validation set is 0.875255623722\n",
      "Accuracy on test set is 0.873469387755\n",
      "p = 0.001\n",
      "m = 100\n",
      "Accuracy on training set is 0.970729576234\n",
      "Accuracy on validation set is 0.871165644172\n",
      "Accuracy on test set is 0.869387755102\n",
      "p = 0.0005\n",
      "m = 100\n",
      "Accuracy on training set is 0.974661424203\n",
      "Accuracy on validation set is 0.865030674847\n",
      "Accuracy on test set is 0.869387755102\n",
      "p = 0.01\n",
      "m = 150\n",
      "Accuracy on training set is 0.925731760594\n",
      "Accuracy on validation set is 0.854805725971\n",
      "Accuracy on test set is 0.871428571429\n",
      "p = 0.005\n",
      "m = 150\n",
      "Accuracy on training set is 0.951070336391\n",
      "Accuracy on validation set is 0.869120654397\n",
      "Accuracy on test set is 0.875510204082\n",
      "p = 0.001\n",
      "m = 150\n",
      "Accuracy on training set is 0.969855832241\n",
      "Accuracy on validation set is 0.873210633947\n",
      "Accuracy on test set is 0.869387755102\n",
      "p = 0.0005\n",
      "m = 150\n",
      "Accuracy on training set is 0.97247706422\n",
      "Accuracy on validation set is 0.869120654397\n",
      "Accuracy on test set is 0.865306122449\n"
     ]
    }
   ],
   "source": [
    "fake_data = '/Users/yingxue_wang/Documents/cdf/csc411/Project3/data/clean_fake.txt'\n",
    "real_data = '/Users/yingxue_wang/Documents/cdf/csc411/Project3/data/clean_real.txt'\n",
    "fX_train, fy_train, fX_test, fy_test, fX_val, fy_val = get_datasets(fake_data)\n",
    "rX_train, ry_train, rX_test, ry_test, rX_val, ry_val = get_datasets(real_data)\n",
    "\n",
    "X_train = fX_train + rX_train\n",
    "y_train = fy_train + ry_train\n",
    "X_val = fX_val + rX_val\n",
    "y_val = fy_val + ry_val\n",
    "X_test = fX_test + rX_test\n",
    "y_test = fy_test + ry_test\n",
    "\n",
    "best_m = 50\n",
    "best_p = 0.01\n",
    "\n",
    "m_range = np.array([50, 75, 100, 150])\n",
    "p_range = np.array([0.01, 0.005, 0.001, 0.0005])\n",
    "Max = 0\n",
    "Accuracy = np.zeros([m_range.size, p_range.size])\n",
    "\n",
    "for i, m in enumerate(m_range):\n",
    "        for j, p in enumerate(p_range):\n",
    "            Accuracy[j,i] = naive_bayes(fX_train, fy_train, X_val, y_val, X_test, y_test, m, p)\n",
    "            if Accuracy[j,i] > Max:\n",
    "                CMax = Accuracy[j,i]\n",
    "                best_m = m\n",
    "                best_p = p\n",
    "save_data(Accuracy, 'Accuracy')\n",
    "\n",
    "# p = 0.005\n",
    "# m = 100\n",
    "# Accuracy on training set is 0.958060288336\n",
    "# Accuracy on validation set is 0.875255623722\n",
    "# Accuracy on test set is 0.873469387755\n"
   ]
  },
  {
   "cell_type": "code",
   "execution_count": 17,
   "metadata": {},
   "outputs": [
    {
     "name": "stdout",
     "output_type": "stream",
     "text": [
      "[[0.86912065 0.87116564 0.86912065 0.86298569]\n",
      " [0.86298569 0.86912065 0.87116564 0.86707566]\n",
      " [0.86707566 0.87525562 0.87116564 0.86503067]\n",
      " [0.85480573 0.86912065 0.87321063 0.86912065]]\n"
     ]
    },
    {
     "data": {
      "image/png": "[encoded data removed]",
      "text/plain": [
       "<Figure size 432x288 with 1 Axes>"
      ]
     },
     "metadata": {},
     "output_type": "display_data"
    }
   ],
   "source": [
    "mz, pz = np.meshgrid(m_range, p_range)\n",
    "val_accuracy = load_data('Accuracy')\n",
    "print val_accuracy\n",
    "\n",
    "CS = plt.contour(mz, pz, val_accuracy)\n",
    "plt.clabel(CS)\n",
    "plt.legend(loc='upper left')\n",
    "plt.title('Contour plot')\n",
    "plt.savefig(\"part2_figure2\")\n",
    "plt.show()"
   ]
  },
  {
   "cell_type": "code",
   "execution_count": 22,
   "metadata": {},
   "outputs": [
    {
     "name": "stdout",
     "output_type": "stream",
     "text": [
      "[[0.86912065 0.87116564 0.86912065 0.86298569]\n",
      " [0.86298569 0.86912065 0.87116564 0.86707566]\n",
      " [0.86707566 0.87525562 0.87116564 0.86503067]\n",
      " [0.85480573 0.86912065 0.87321063 0.86912065]]\n",
      "[[0.86912065 0.86298569 0.86707566 0.85480573]\n",
      " [0.87116564 0.86912065 0.87525562 0.86912065]\n",
      " [0.86912065 0.87116564 0.87116564 0.87321063]\n",
      " [0.86298569 0.86707566 0.86503067 0.86912065]]\n"
     ]
    },
    {
     "data": {
      "image/png": "[encoded data removed]",
      "text/plain": [
       "<Figure size 432x288 with 1 Axes>"
      ]
     },
     "metadata": {},
     "output_type": "display_data"
    }
   ],
   "source": [
    "# after modification, this is the correct result\n",
    "m_range = np.array([50, 75, 100, 150])\n",
    "p_range = np.array([0.01, 0.005, 0.001, 0.0005])\n",
    "Max = 0\n",
    "acc = np.zeros([m_range.size, p_range.size])\n",
    "val_accuracy = load_data('Accuracy')\n",
    "for i in range(len(Accuracy)):\n",
    "        for j in range(len(Accuracy[i])):\n",
    "            acc[j,i] = Accuracy[i,j]\n",
    "mz, pz = np.meshgrid(m_range, p_range)\n",
    "\n",
    "print val_accuracy\n",
    "print acc\n",
    "\n",
    "CS = plt.contour(mz, pz, acc)\n",
    "plt.clabel(CS)\n",
    "plt.legend(loc='upper left')\n",
    "plt.title('Contour plot')\n",
    "plt.savefig(\"part2_figure2\")\n",
    "plt.show()\n"
   ]
  },
  {
   "cell_type": "markdown",
   "metadata": {},
   "source": [
    "# Part 3. Picking Relevant/Non-relevant "
   ]
  },
  {
   "cell_type": "code",
   "execution_count": 23,
   "metadata": {},
   "outputs": [],
   "source": [
    "def prob_absence(word, LM, m, p, total):\n",
    "    if word not in LM.keys(): #if it's not in our dictionary\n",
    "        # print 'err: prob_absence(), word:', word, 'not in dictionary'\n",
    "        n =  m * p\n",
    "        d = total + m\n",
    "        return float(n) / d\n",
    "    else:\n",
    "        n = total - LM[word] + m * p\n",
    "        d = total + m\n",
    "        return float(n) / d\n",
    "#     if word not in LM.keys(): #if it's not in our dictionary\n",
    "#         # print 'err: prob_absence(), word:', word,'not in dictionary'\n",
    "#         n =  m * p\n",
    "#         d = sum(LM.values()) + m\n",
    "#         return float(n) / d\n",
    "#     else:\n",
    "#         n = sum(LM.values()) - LM[word] + m * p\n",
    "#         d = sum(LM.values()) + m\n",
    "#         return float(n) / d"
   ]
  },
  {
   "cell_type": "code",
   "execution_count": 32,
   "metadata": {},
   "outputs": [],
   "source": [
    "def spam(f,r,m,p):\n",
    "    '''\n",
    "    :param f: fake news - array of strings\n",
    "    :param r: real news - array of strings\n",
    "    :param m: float some parameter\n",
    "    :param p: float some parameter\n",
    "    :return:\n",
    "    '''\n",
    "    n_f = len(f)\n",
    "    n_r = len(r)\n",
    "    fake = build_LM(f)\n",
    "    real = build_LM(r)\n",
    "\n",
    "    inp = ''\n",
    "    while not inp == 'q':\n",
    "        inp = raw_input('enter sentence:')\n",
    "        pf = float(f_n/(f_n+r_n))\n",
    "        pr = float(1-pf)\n",
    "\n",
    "        fake_prob = prob(inp, fake, m, p, n_f) * pf\n",
    "        real_prob = prob(inp, real, m, p, n_r) * pr\n",
    "\n",
    "        print 'real:', real_prob\n",
    "        print 'fake:', fake_prob"
   ]
  },
  {
   "cell_type": "code",
   "execution_count": 109,
   "metadata": {},
   "outputs": [],
   "source": [
    "def topPresence(fX_train, rX_train, m, p):\n",
    "    n_f = len(fX_train)\n",
    "    n_r = len(rX_train)\n",
    "    fake = build_LM(fX_train)\n",
    "    real = build_LM(rX_train)\n",
    "    \n",
    "    pf = float(n_f/(n_f+n_r))\n",
    "    pr = float(1-pf)\n",
    "   \n",
    "    results = []\n",
    "    for word in set(fake.keys()+real.keys()):\n",
    "        fake_prob = prob(word, fake, m, p, n_f) * pf\n",
    "        real_prob = prob(word, real, m, p, n_r) * pr\n",
    "\n",
    "        #normalize\n",
    "        fake_prob = fake_prob / (fake_prob + real_prob)\n",
    "        real_prob = 1 - fake_prob\n",
    "\n",
    "        score = real_prob - fake_prob\n",
    "        results.append((score, word))\n",
    "\n",
    "    results = sorted(results, key = lambda x: float(x[0]))\n",
    "    print 'most fake', [i[1] for i in results[:10]]\n",
    "    print 'most real', [i[1] for i in results[-10:]]\n",
    "\n",
    "    # remove stop word\n",
    "    for i in results:\n",
    "        if i[1] in ENGLISH_STOP_WORDS:\n",
    "            results.remove(i)\n",
    "\n",
    "    print 'stop: absent -> most fake', [i[1] for i in results[:10]]\n",
    "    print 'stop: absent -> most real', [i[1] for i in results[-10:]]\n"
   ]
  },
  {
   "cell_type": "code",
   "execution_count": 34,
   "metadata": {},
   "outputs": [],
   "source": [
    "def topAbsence(fX_train, rX_train, m, p):\n",
    "    n_f = len(fX_train)\n",
    "    n_r = len(rX_train)\n",
    "    fake = build_LM(fX_train)\n",
    "    real = build_LM(rX_train)\n",
    "\n",
    "    pf = float(len(fake.keys())) / (len(fake.keys()) + len(real.keys()))\n",
    "    pr = 1 - pf\n",
    "\n",
    "    results = []\n",
    "    for word in set(fake.keys() + real.keys()):\n",
    "        fake_prob = prob_absence(word, fake, m, p, n_f) * pf\n",
    "        real_prob = prob_absence(word, real, m, p, n_r) * pr\n",
    "\n",
    "        #normalize\n",
    "        fake_prob = fake_prob / (fake_prob + real_prob)\n",
    "        real_prob = 1 - fake_prob\n",
    "\n",
    "#         if word == 'hats':\n",
    "#             print word,real_prob,fake_prob\n",
    "\n",
    "        score = real_prob - fake_prob\n",
    "        results.append((score, word))\n",
    "\n",
    "    results = sorted(results, key = lambda x: float(x[0]))\n",
    "    print 'absent -> most fake', [i[1] for i in results[:10]]\n",
    "    print 'absent -> most real', [i[1] for i in results[-10:]]\n",
    "\n",
    "    #remove stop word\n",
    "    for i in results:\n",
    "        if i[1] in ENGLISH_STOP_WORDS:\n",
    "            results.remove(i)\n",
    "\n",
    "    print 'stop: absent -> most fake', [i[1] for i in results[:10]]\n",
    "    print 'stop: absent -> most real', [i[1] for i in results[-10:]]\n"
   ]
  },
  {
   "cell_type": "code",
   "execution_count": 91,
   "metadata": {},
   "outputs": [],
   "source": [
    "# spam(fX_train,rX_train,300,0.01)"
   ]
  },
  {
   "cell_type": "code",
   "execution_count": 110,
   "metadata": {},
   "outputs": [
    {
     "name": "stdout",
     "output_type": "stream",
     "text": [
      "most fake ['obstruction', 'pardon', 'hats', 'personally', 'pide', 'extends', 'four', 'hath', 'protest', 'sleep']\n",
      "most real ['rounding', 'pierson', 'compete', 'tensions', 'uneducated', 'lives', 'honchos', 'expands', 'defend', 'tanking']\n",
      "stop: absent -> most fake ['obstruction', 'pardon', 'hats', 'personally', 'pide', 'extends', 'hath', 'protest', 'sleep', 'asian']\n",
      "stop: absent -> most real ['rounding', 'pierson', 'compete', 'tensions', 'uneducated', 'lives', 'honchos', 'expands', 'defend', 'tanking']\n"
     ]
    }
   ],
   "source": [
    "topPresence(fX_train,rX_train,75,0.005)"
   ]
  },
  {
   "cell_type": "code",
   "execution_count": 36,
   "metadata": {},
   "outputs": [
    {
     "name": "stdout",
     "output_type": "stream",
     "text": [
      "absent -> most fake ['hats', 'pide', 'hath', 'sleep', 'deri', 'saved', 'assembled', 'whose', 'vandal', 'edward']\n",
      "absent -> most real ['cheque', 'exposure', 'stirred', 'imposes', 'ipswich', 'resolution', 'sliding', 'original', 'compete', 'expands']\n",
      "stop: absent -> most fake ['hats', 'pide', 'hath', 'sleep', 'deri', 'saved', 'assembled', 'vandal', 'edward', 'lord']\n",
      "stop: absent -> most real ['cheque', 'exposure', 'stirred', 'imposes', 'ipswich', 'resolution', 'sliding', 'original', 'compete', 'expands']\n"
     ]
    }
   ],
   "source": [
    "topAbsence(fX_train,rX_train,75,0.005)"
   ]
  },
  {
   "cell_type": "markdown",
   "metadata": {},
   "source": [
    "# Part 4: Logistic Regression Algorithm"
   ]
  },
  {
   "cell_type": "markdown",
   "metadata": {},
   "source": [
    "Some helper functions"
   ]
  },
  {
   "cell_type": "code",
   "execution_count": 38,
   "metadata": {},
   "outputs": [],
   "source": [
    "def get_mapped_matrix(X_train, word_list):\n",
    "    c = 0.0\n",
    "    X_matrix = np.ones((len(word_list),1))\n",
    "    for data in X_train:\n",
    "        c += 1\n",
    "        if c%100 == 0:\n",
    "            print c\n",
    "        x = np.zeros((len(word_list),1))\n",
    "        data = data.split()\n",
    "        for i in range(len(word_list)):\n",
    "            if word_list[i] in data:\n",
    "                x[i] = 1\n",
    "        X_matrix = np.hstack((X_matrix, x))\n",
    "    X_matrix = X_matrix[:,1:] \n",
    "    return X_matrix\n"
   ]
  },
  {
   "cell_type": "code",
   "execution_count": 39,
   "metadata": {},
   "outputs": [],
   "source": [
    "def sigmoid(y):\n",
    "    # return 1/(1+np.exp(-(np.dot(theta.T, x))))\n",
    "    return 1/(1+np.exp(-y))\n",
    "  \n",
    "# Without rgularization\n",
    "# def f(x, y, theta):\n",
    "#     '''\n",
    "#     output dimenssion:(2287,)\n",
    "#     '''\n",
    "#     x = np.vstack((np.ones((1, len(x[0]))), x))\n",
    "#     return y*np.log(sigmoid(np.dot(theta.T,x))) + (1-y)*np.log(1-sigmoid(np.dot(theta.T,x)))\n",
    "\n",
    "# def df(x, y, theta):\n",
    "#     # (4821,)\n",
    "#     x = np.vstack((np.ones((1, len(x[0]))), x))\n",
    "#     return np.sum((sigmoid(np.dot(theta.T,x))-y)*x, axis = 1)\n",
    "\n",
    "# With Regularization\n",
    "def f(x, y, theta, lamb=0):\n",
    "    '''\n",
    "    output dimenssion:(2287,)\n",
    "    '''\n",
    "    x = np.vstack((np.ones((1, len(x[0]))), x))\n",
    "    return y*np.log(sigmoid(np.dot(theta.T,x))) + (1-y)*np.log(1-sigmoid(np.dot(theta.T,x))) + lamb*norm(theta)**2\n",
    "\n",
    "def df(x, y, theta, lamb=0):\n",
    "    # (4821,)\n",
    "    x = np.vstack((np.ones((1, len(x[0]))), x))\n",
    "    return np.sum((sigmoid(np.dot(theta.T,x))-y)*x, axis = 1) + 2*lamb*norm(theta)\n",
    "\n",
    "def grad_descent(f, df, x, y, init_t, alpha, lamb=0):\n",
    "    thetas = np.empty((x.shape[0]+1))\n",
    "    EPS = 1e-5   \n",
    "    prev_t = init_t-10*EPS\n",
    "    t = init_t.copy()\n",
    "    max_iter = 1500\n",
    "    iter = 0\n",
    "    while norm(t - prev_t) > EPS and iter < max_iter:  \n",
    "        prev_t = t.copy()\n",
    "        t -= alpha*df(x, y, t, lamb)\n",
    "        iter += 1\n",
    "        if iter % 50 == 0:\n",
    "            thetas = np.vstack((thetas,t))\n",
    "            print iter\n",
    "    return thetas"
   ]
  },
  {
   "cell_type": "code",
   "execution_count": 40,
   "metadata": {},
   "outputs": [],
   "source": [
    "def performace_test(X_test, y_test, thetas):\n",
    "    performance = []\n",
    "    \n",
    "    X_test = np.vstack((np.ones((1, len(X_test[0]))), X_test))\n",
    "    for theta in thetas:\n",
    "        count = 0.0\n",
    "        predict = sigmoid(np.dot(theta.T, X_test))\n",
    "        for i in range(len(predict)):\n",
    "            if predict[i] > 0.5:\n",
    "                predict[i] = 1\n",
    "            else:\n",
    "                predict[i] = 0\n",
    "            if predict[i] == y_test[i]:\n",
    "                count += 1\n",
    "        performance.append(count/X_test.shape[1])\n",
    "    return performance"
   ]
  },
  {
   "cell_type": "code",
   "execution_count": 47,
   "metadata": {},
   "outputs": [
    {
     "name": "stdout",
     "output_type": "stream",
     "text": [
      "50\n",
      "100\n",
      "150\n",
      "200\n",
      "250\n",
      "300\n",
      "350\n",
      "400\n",
      "450\n",
      "500\n",
      "550\n",
      "600\n",
      "650\n",
      "700\n",
      "750\n",
      "800\n",
      "850\n",
      "900\n",
      "950\n",
      "1000\n",
      "1050\n",
      "1100\n",
      "1150\n",
      "1200\n",
      "1250\n",
      "1300\n",
      "1350\n",
      "1400\n",
      "1450\n",
      "1500\n"
     ]
    }
   ],
   "source": [
    "# Obtainning input matrix using the full training set\n",
    "# Uncomment these when the first time running this code\n",
    "\n",
    "# fX_train, fy_train, fX_test, fy_test, fX_val, fy_val = get_datasets(fake_data)\n",
    "# rX_train, ry_train, rX_test, ry_test, rX_val, ry_val = get_datasets(real_data)\n",
    "\n",
    "# X_train = fX_train + rX_train\n",
    "# y_train = fy_train + ry_train\n",
    "# X_val = fX_val + rX_val\n",
    "# y_val = fy_val + ry_val\n",
    "# X_test = fX_test + rX_test\n",
    "# y_test = fy_test + ry_test\n",
    "\n",
    "# LM = build_LM(X_train)\n",
    "# word_list = list(LM.keys())     # len(word_list) = 4820\n",
    "# X_train = get_mapped_matrix(X_train, word_list)\n",
    "# X_val = get_mapped_matrix(X_val, word_list)\n",
    "# X_test = get_mapped_matrix(X_test, word_list)\n",
    "# save_data(X_train, 'X_train_logistic')\n",
    "# save_data(X_val, 'X_val_logistic')\n",
    "# save_data(X_test, 'X_test_logistic')\n",
    "\n",
    "X_train = load_data('X_train_logistic')\n",
    "X_val = load_data('X_val_logistic')\n",
    "X_test = load_data('X_test_logistic')\n",
    "\n",
    "# print X_train.shape    # (4820, 2287)\n",
    "\n",
    "# Number of features: 4820 + 1 bias -> X:(4820, 2287)\n",
    "# theta : (4821,)\n",
    "# theta.T * x : 1 * 2287\n",
    "# y = 1 * 2287\n",
    "theta = np.zeros((X_train.shape[0]+1)) # 4821\n",
    "y_train = np.reshape(y_train,(X_train.shape[1])).T     # (2287,)\n",
    "alpha = 0.001\n",
    "\n",
    "# Plot learning curves: Performance versus iterations\n",
    "thetas = grad_descent(f, df, X_train, y_train, theta, alpha)\n",
    "save_data(thetas, 'thetas_lamb_0')"
   ]
  },
  {
   "cell_type": "code",
   "execution_count": null,
   "metadata": {},
   "outputs": [],
   "source": [
    "thetas = load_data('thetas_lamb_0')\n",
    "performance_val = performace_test(X_val, y_val, thetas)\n",
    "performance_train = performace_test(X_train, y_train, thetas)\n",
    "performance_test = performace_test(X_test, y_test, thetas)\n",
    "\n",
    "save_data(performance_val, 'performance_val')\n",
    "save_data(performance_train, 'performance_train')\n",
    "save_data(performance_test, 'performance_test')\n",
    "\n",
    "print performance_val\n",
    "print performance_train\n",
    "print performance_test"
   ]
  },
  {
   "cell_type": "markdown",
   "metadata": {},
   "source": [
    "Plot the Learning curve"
   ]
  },
  {
   "cell_type": "code",
   "execution_count": 50,
   "metadata": {},
   "outputs": [
    {
     "data": {
      "image/png": "[encoded data removed]",
      "text/plain": [
       "<Figure size 432x288 with 1 Axes>"
      ]
     },
     "metadata": {},
     "output_type": "display_data"
    }
   ],
   "source": [
    "# Plot performance on validation set\n",
    "# Plot performance on training set\n",
    "performance_val = load_data('performance_val')\n",
    "performance_train = load_data('performance_train')\n",
    "performance_test_set = load_data('performance_test')\n",
    "iteration = range(0,1501,50)\n",
    "plt.plot(iteration, performance_val, iteration, performance_train, iteration, performance_test_set)\n",
    "plt.legend(['Validation set', 'Training set','Test set'])\n",
    "plt.xlabel('Iteraion')\n",
    "plt.ylabel('Performance')\n",
    "plt.savefig(\"performance_1500_0_001.png\")\n",
    "plt.show()\n",
    "\n",
    "# Use alpha = 0.001, iteration = 1500\n",
    "# Performance on validation set: Highest: 0.8282208588957055, overfit to 0.8159509202453987 at around 580 iterations\n",
    "# Performance on test set goes up to 0.8714285714285714 at 155 iterations.\n",
    "# [0.6032719836400818, 0.7893660531697342, 0.7995910020449898, 0.8077709611451943, 0.8118609406952966, 0.8159509202453987, 0.8179959100204499, 0.8220858895705522, 0.8241308793456033, 0.8261758691206544, 0.8261758691206544, 0.8282208588957055, 0.8261758691206544, 0.8241308793456033, 0.8220858895705522, 0.820040899795501, 0.8179959100204499, 0.8179959100204499, 0.8179959100204499, 0.8159509202453987, 0.8139059304703476, 0.8139059304703476, 0.8139059304703476, 0.8139059304703476, 0.8159509202453987, 0.8159509202453987, 0.8159509202453987, 0.8159509202453987, 0.8139059304703476, 0.8139059304703476, 0.8159509202453987]\n",
    "# [0.6024464831804281, 0.8484054172127566, 0.8802970729576234, 0.9012669287898646, 0.9152468326780253, 0.9235474006116208, 0.928789864569681, 0.9392747924858017, 0.9484491044124072, 0.9558759283529926, 0.9598077763215378, 0.9624290083005679, 0.9654871122761031, 0.9681083442551333, 0.9694189602446484, 0.9711664482306684, 0.9742245522062036, 0.9759720401922237, 0.9772826561817387, 0.9781564001747488, 0.9790301441677588, 0.9803407601572739, 0.982088248143294, 0.9833988641328091, 0.9851463521188292, 0.9860200961118393, 0.9868938401048493, 0.9873307121013543, 0.9877675840978594, 0.9890782000873743, 0.9903888160768894]\n",
    "# [0.6020408163265306, 0.8408163265306122, 0.8551020408163266, 0.863265306122449, 0.8653061224489796, 0.8673469387755102, 0.8714285714285714, 0.8755102040816326, 0.8775510204081632, 0.8775510204081632, 0.8795918367346939, 0.8775510204081632, 0.8795918367346939, 0.8795918367346939, 0.8795918367346939, 0.8795918367346939, 0.8775510204081632, 0.8755102040816326, 0.8734693877551021, 0.8734693877551021, 0.8734693877551021, 0.8714285714285714, 0.8693877551020408, 0.8693877551020408, 0.8693877551020408, 0.8714285714285714, 0.8693877551020408, 0.8714285714285714, 0.8714285714285714, 0.8714285714285714, 0.8714285714285714]"
   ]
  },
  {
   "cell_type": "markdown",
   "metadata": {},
   "source": [
    "Part 4b. Tuning Lambda"
   ]
  },
  {
   "cell_type": "code",
   "execution_count": 64,
   "metadata": {
    "scrolled": false
   },
   "outputs": [
    {
     "data": {
      "image/png": "[encoded data removed]",
      "text/plain": [
       "<Figure size 432x288 with 1 Axes>"
      ]
     },
     "metadata": {},
     "output_type": "display_data"
    },
    {
     "name": "stdout",
     "output_type": "stream",
     "text": [
      "Lambda is now: 1\n",
      "Final performance on validation set is: 0.60327198364\n",
      "Final performance on test set is: 0.602040816327\n"
     ]
    },
    {
     "data": {
      "image/png": "[encoded data removed]",
      "text/plain": [
       "<Figure size 432x288 with 1 Axes>"
      ]
     },
     "metadata": {},
     "output_type": "display_data"
    },
    {
     "name": "stdout",
     "output_type": "stream",
     "text": [
      "Lambda is now: 0.1\n",
      "Final performance on validation set is: 0.60327198364\n",
      "Final performance on test set is: 0.602040816327\n"
     ]
    },
    {
     "data": {
      "image/png": "[encoded data removed]",
      "text/plain": [
       "<Figure size 432x288 with 1 Axes>"
      ]
     },
     "metadata": {},
     "output_type": "display_data"
    },
    {
     "name": "stdout",
     "output_type": "stream",
     "text": [
      "Lambda is now: 0.01\n",
      "Final performance on validation set is: 0.754601226994\n",
      "Final performance on test set is: 0.791836734694\n"
     ]
    },
    {
     "data": {
      "image/png": "[encoded data removed]",
      "text/plain": [
       "<Figure size 432x288 with 1 Axes>"
      ]
     },
     "metadata": {},
     "output_type": "display_data"
    },
    {
     "name": "stdout",
     "output_type": "stream",
     "text": [
      "Lambda is now: 0.001\n",
      "Final performance on validation set is: 0.811860940695\n",
      "Final performance on test set is: 0.865306122449\n"
     ]
    },
    {
     "data": {
      "image/png": "[encoded data removed]",
      "text/plain": [
       "<Figure size 432x288 with 1 Axes>"
      ]
     },
     "metadata": {},
     "output_type": "display_data"
    },
    {
     "name": "stdout",
     "output_type": "stream",
     "text": [
      "Lambda is now: 0.0001\n",
      "Final performance on validation set is: 0.81390593047\n",
      "Final performance on test set is: 0.871428571429\n"
     ]
    },
    {
     "data": {
      "image/png": "[encoded data removed]",
      "text/plain": [
       "<Figure size 432x288 with 1 Axes>"
      ]
     },
     "metadata": {},
     "output_type": "display_data"
    },
    {
     "name": "stdout",
     "output_type": "stream",
     "text": [
      "Lambda is now: 0\n",
      "Final performance on validation set is: 0.815950920245\n",
      "Final performance on test set is: 0.871428571429\n"
     ]
    }
   ],
   "source": [
    "theta = np.zeros((X_train.shape[0]+1)) # 4821\n",
    "lamb_list = [1, 0.1, 0.01, 0.001, 0.0001, 0]\n",
    "alpha = 0.001\n",
    "for lamb in lamb_list:\n",
    "#     # Obtain theta\n",
    "#     thetas = grad_descent(f, df, X_train, y_train, theta, alpha, lamb)\n",
    "#     save_data(thetas, 'thetas_%f'%lamb)\n",
    "    \n",
    "#     # Obtain performance on training and validation set\n",
    "#     performance_train = performace_test(X_train, y_train, thetas)\n",
    "#     performance_val = performace_test(X_val, y_val, thetas)\n",
    "#     performance_test_set = performace_test(X_test, y_test, thetas)\n",
    "#     save_data(performance_train, 'performance_train_%f'%lamb)\n",
    "#     save_data(performance_val, 'performance_val_%f'%lamb)\n",
    "#     save_data(performance_test_set, 'performance_test_%f'%lamb)\n",
    "\n",
    "    performance_train = load_data('performance_train_%f'%lamb)\n",
    "    performance_val = load_data('performance_val_%f'%lamb)\n",
    "    performance_test_set = load_data('performance_test_%f'%lamb)\n",
    "    iteration = range(0,1501,50)\n",
    "    plt.plot(iteration, performance_val, iteration, performance_train, iteration, performance_test_set)\n",
    "    plt.legend(['Validation set', 'Training set', 'Test set'])\n",
    "    plt.xlabel('Iteraion')\n",
    "    plt.ylabel('Performance')\n",
    "    plt.savefig(\"performance_1500_%f.png\"%lamb)\n",
    "    plt.show()\n",
    "    print 'Lambda is now: ' + str(lamb)\n",
    "    print 'Final performance on validation set is: ' + str(performance_val[-1])\n",
    "    print 'Final performance on test set is: ' + str(performance_test_set[-1])"
   ]
  },
  {
   "cell_type": "markdown",
   "metadata": {},
   "source": [
    "Finding Top 10 positive thetas and Top 10 negative thetas with tuned alpha and lambda"
   ]
  },
  {
   "cell_type": "code",
   "execution_count": 72,
   "metadata": {},
   "outputs": [
    {
     "name": "stdout",
     "output_type": "stream",
     "text": [
      "50\n",
      "100\n",
      "150\n",
      "200\n",
      "250\n",
      "300\n",
      "350\n",
      "400\n",
      "450\n",
      "500\n",
      "550\n",
      "600\n",
      "650\n",
      "700\n",
      "750\n",
      "800\n",
      "850\n",
      "900\n",
      "950\n",
      "1000\n",
      "1050\n",
      "1100\n",
      "1150\n",
      "1200\n",
      "1250\n",
      "1300\n",
      "1350\n",
      "1400\n",
      "1450\n",
      "1500\n"
     ]
    }
   ],
   "source": [
    "# fX_train, fy_train, fX_test, fy_test, fX_val, fy_val = get_datasets(fake_data)\n",
    "# rX_train, ry_train, rX_test, ry_test, rX_val, ry_val = get_datasets(real_data)\n",
    "\n",
    "# X_train = fX_train + rX_train\n",
    "# y_train = fy_train + ry_train\n",
    "# X_val = fX_val + rX_val\n",
    "# y_val = fy_val + ry_val\n",
    "# X_test = fX_test + rX_test\n",
    "# y_test = fy_test + ry_test\n",
    "\n",
    "# LM = build_LM(X_train)\n",
    "# word_list = list(LM.keys())     # len(word_list) = 4820\n",
    "# X_train = get_mapped_matrix(X_train, word_list)\n",
    "# X_val = get_mapped_matrix(X_val, word_list)\n",
    "# X_test = get_mapped_matrix(X_test, word_list)\n",
    "# save_data(X_train, 'X_train_logistic')\n",
    "# save_data(X_val, 'X_val_logistic')\n",
    "# save_data(X_test, 'X_test_logistic')\n",
    "\n",
    "X_train = load_data('X_train_logistic')\n",
    "X_val = load_data('X_val_logistic')\n",
    "X_test = load_data('X_test_logistic')\n",
    "\n",
    "lamb = 0\n",
    "alpha = 0.001\n",
    "thetas = grad_descent(f, df, X_train, y_train, theta, alpha, lamb)\n",
    "dave_data(thetas, 'best_thetas')\n"
   ]
  },
  {
   "cell_type": "markdown",
   "metadata": {},
   "source": [
    "# Part 5"
   ]
  },
  {
   "cell_type": "markdown",
   "metadata": {},
   "source": [
    "There is no need for code"
   ]
  },
  {
   "cell_type": "markdown",
   "metadata": {},
   "source": [
    "# Part 6"
   ]
  },
  {
   "cell_type": "markdown",
   "metadata": {},
   "source": [
    "Part 6a. Displaying top 10 positive thetas and top 10 negative thetas"
   ]
  },
  {
   "cell_type": "code",
   "execution_count": 180,
   "metadata": {},
   "outputs": [],
   "source": [
    "def top_10(thetas, word_list, remove_stop_words = False):\n",
    "    best_theta = thetas[-1]\n",
    "    theta_word = []\n",
    "    if not remove_stop_words: # Do not remove stop words\n",
    "        for i in range(len(word_list)):\n",
    "            theta_word.append((best_theta[i], word_list[i]))\n",
    "        results = sorted(theta_word, key = lambda x: float(x[0]))\n",
    "        print 'Top 10 posotive thetas are: \\n', [i[0] for i in results[-10:]]\n",
    "        print 'The corresponded words are: \\n', [i[1] for i in results[-10:]]\n",
    "        print '\\n'\n",
    "        print 'Top 10 negative thetas are: \\n', [i[0] for i in results[:10]]\n",
    "        print 'The corresponded words are: \\n', [i[1] for i in results[:10]]\n",
    "    else:\n",
    "        for i in range(len(word_list)):\n",
    "            if word_list[i] not in ENGLISH_STOP_WORDS:\n",
    "                theta_word.append((best_theta[i], word_list[i]))\n",
    "        results = sorted(theta_word, key = lambda x: float(x[0]))\n",
    "        print 'Top 10 positive thetas are: \\n', [i[0] for i in results[-10:]]\n",
    "        print 'The corresponded words are: \\n', [i[1] for i in results[-10:]]\n",
    "        print '\\n'\n",
    "        print 'Top 10 negative thetas are: \\n', [i[0] for i in results[:10]]\n",
    "        print 'The corresponded words are: \\n', [i[1] for i in results[:10]]\n",
    "        "
   ]
  },
  {
   "cell_type": "code",
   "execution_count": 181,
   "metadata": {},
   "outputs": [],
   "source": [
    "def part6a():\n",
    "    thetas = load_data('thetas_lamb_0')\n",
    "\n",
    "    fX_train, fy_train, fX_test, fy_test, fX_val, fy_val = get_datasets(fake_data)\n",
    "    rX_train, ry_train, rX_test, ry_test, rX_val, ry_val = get_datasets(real_data)\n",
    "    X_train = fX_train + rX_train\n",
    "    LM = build_LM(X_train)\n",
    "    word_list = list(LM.keys())     # len(word_list) = 4820\n",
    "    top_10(thetas, word_list)"
   ]
  },
  {
   "cell_type": "code",
   "execution_count": 182,
   "metadata": {},
   "outputs": [
    {
     "name": "stdout",
     "output_type": "stream",
     "text": [
      "Top 10 posotive thetas are: \n",
      "[1.8809302150080827, 1.9934145943171715, 2.0401576548350424, 2.1494908376159287, 2.15205676191225, 2.30275064042435, 2.478758429828731, 2.5548512378412696, 2.743401424909237, 2.9219077934300066]\n",
      "The corresponded words are: \n",
      "['guns', 'may', 'founder', 'treasury', 'photo', 'sea', 'waters', 'each', 'ridiculous', 'dismissed']\n",
      "\n",
      "\n",
      "Top 10 negative thetas are: \n",
      "[-3.5114534363844396, -2.561600927102143, -2.1988569260688666, -2.145612789788321, -2.086812729418098, -2.0305162419677396, -1.8805042581279057, -1.799684811327131, -1.7788772697931388, -1.6851121878678401]\n",
      "The corresponded words are: \n",
      "['candidates', 'stalking', 'nevada', 'patrol', 'mujer', 'completely', 'obstruction', 'entire', 'fearing', 'depressing']\n"
     ]
    }
   ],
   "source": [
    "part6a()"
   ]
  },
  {
   "cell_type": "markdown",
   "metadata": {},
   "source": [
    "Part 3b. ignore all stop words"
   ]
  },
  {
   "cell_type": "code",
   "execution_count": 141,
   "metadata": {},
   "outputs": [],
   "source": [
    "def part6b():\n",
    "    thetas = load_data('thetas_lamb_0')\n",
    "\n",
    "    fX_train, fy_train, fX_test, fy_test, fX_val, fy_val = get_datasets(fake_data)\n",
    "    rX_train, ry_train, rX_test, ry_test, rX_val, ry_val = get_datasets(real_data)\n",
    "    X_train = fX_train + rX_train\n",
    "    LM = build_LM(X_train)\n",
    "    word_list = list(LM.keys())     # len(word_list) = 4820\n",
    "    top_10(thetas, word_list, remove_stop_words = True)"
   ]
  },
  {
   "cell_type": "code",
   "execution_count": 142,
   "metadata": {},
   "outputs": [
    {
     "name": "stdout",
     "output_type": "stream",
     "text": [
      "Top 10 posotive thetas are: \n",
      "[1.80710464960545, 1.8472006428405927, 1.8809302150080827, 2.0401576548350424, 2.1494908376159287, 2.15205676191225, 2.30275064042435, 2.478758429828731, 2.743401424909237, 2.9219077934300066]\n",
      "The corresponded words are: \n",
      "['perspectives', 'behold', 'guns', 'founder', 'treasury', 'photo', 'sea', 'waters', 'ridiculous', 'dismissed']\n",
      "\n",
      "\n",
      "Top 10 negative thetas are: \n",
      "[-3.5114534363844396, -2.561600927102143, -2.1988569260688666, -2.145612789788321, -2.086812729418098, -2.0305162419677396, -1.8805042581279057, -1.799684811327131, -1.7788772697931388, -1.6851121878678401]\n",
      "The corresponded words are: \n",
      "['candidates', 'stalking', 'nevada', 'patrol', 'mujer', 'completely', 'obstruction', 'entire', 'fearing', 'depressing']\n"
     ]
    }
   ],
   "source": [
    "part6b()"
   ]
  },
  {
   "cell_type": "markdown",
   "metadata": {},
   "source": [
    "# Part 7. Decision Tree"
   ]
  },
  {
   "cell_type": "markdown",
   "metadata": {},
   "source": [
    "http://scikit-learn.org/stable/modules/generated/sklearn.tree.DecisionTreeClassifier.html"
   ]
  },
  {
   "cell_type": "code",
   "execution_count": 67,
   "metadata": {},
   "outputs": [],
   "source": [
    "def part7a(x_train, y_train, x_valid, y_valid):\n",
    "    xt, yt = list(x_train), list(y_train) #make copy\n",
    "    xv, yv = list(x_valid), list(y_valid)\n",
    "\n",
    "    #create dictionary\n",
    "    d = build_LM(xt+xv)\n",
    "    dictionary = d.keys()\n",
    " \n",
    "    # preprocess data\n",
    "    for i in range(len(xt)):\n",
    "        vector = [0]*len(dictionary)\n",
    "        for word in xt[i].split():\n",
    "            vector[dictionary.index(word)] = 1\n",
    "        xt[i] = vector\n",
    "\n",
    "    for i in range(len(xv)):\n",
    "        vector = [0]*len(dictionary)\n",
    "        for word in xv[i].split():\n",
    "            vector[dictionary.index(word)] = 1\n",
    "        xv[i] = vector\n",
    "\n",
    "    #train tree\n",
    "    val_scores = []\n",
    "    test_scores = []\n",
    "    vals = range(1,30,3)\n",
    "    for depth in vals:\n",
    "        clf = DecisionTreeClassifier(max_depth=depth, random_state=0)\n",
    "        clf.fit(xt,yt)\n",
    "\n",
    "        #validate\n",
    "        val_scores.append(test_tree(clf, xt, yt))\n",
    "        test_scores.append(test_tree(clf, xv, yv))\n",
    "\n",
    "    print vals\n",
    "    print test_scores\n",
    "    print val_scores\n",
    "\n",
    "    #graph\n",
    "    plt.plot(vals,test_scores,vals,val_scores)\n",
    "    plt.legend([\"validation set\", \"test set\"])\n",
    "    plt.title(\"Performance of decision tree for various max depths\")\n",
    "    plt.ylabel(\"performance (%)\")\n",
    "    plt.xlabel(\"max depth\")\n",
    "    plt.show()\n",
    "    "
   ]
  },
  {
   "cell_type": "code",
   "execution_count": 108,
   "metadata": {},
   "outputs": [
    {
     "ename": "AttributeError",
     "evalue": "'numpy.ndarray' object has no attribute 'split'",
     "output_type": "error",
     "traceback": [
      "\u001b[0;31m---------------------------------------------------------------------------\u001b[0m",
      "\u001b[0;31mAttributeError\u001b[0m                            Traceback (most recent call last)",
      "\u001b[0;32m<ipython-input-108-2cc97c23cbc9>\u001b[0m in \u001b[0;36m<module>\u001b[0;34m()\u001b[0m\n\u001b[1;32m     22\u001b[0m \u001b[0mX_test\u001b[0m \u001b[0;34m=\u001b[0m \u001b[0mload_data\u001b[0m\u001b[0;34m(\u001b[0m\u001b[0;34m'X_test_logistic'\u001b[0m\u001b[0;34m)\u001b[0m\u001b[0;34m\u001b[0m\u001b[0m\n\u001b[1;32m     23\u001b[0m \u001b[0;34m\u001b[0m\u001b[0m\n\u001b[0;32m---> 24\u001b[0;31m \u001b[0mpart7a\u001b[0m\u001b[0;34m(\u001b[0m\u001b[0mX_train\u001b[0m\u001b[0;34m,\u001b[0m \u001b[0my_train\u001b[0m\u001b[0;34m,\u001b[0m \u001b[0mX_val\u001b[0m\u001b[0;34m,\u001b[0m \u001b[0my_val\u001b[0m\u001b[0;34m)\u001b[0m\u001b[0;34m\u001b[0m\u001b[0m\n\u001b[0m",
      "\u001b[0;32m<ipython-input-67-e2836c6ddac1>\u001b[0m in \u001b[0;36mpart7a\u001b[0;34m(x_train, y_train, x_valid, y_valid)\u001b[0m\n\u001b[1;32m      4\u001b[0m \u001b[0;34m\u001b[0m\u001b[0m\n\u001b[1;32m      5\u001b[0m     \u001b[0;31m#create dictionary\u001b[0m\u001b[0;34m\u001b[0m\u001b[0;34m\u001b[0m\u001b[0m\n\u001b[0;32m----> 6\u001b[0;31m     \u001b[0md\u001b[0m \u001b[0;34m=\u001b[0m \u001b[0mbuild_LM\u001b[0m\u001b[0;34m(\u001b[0m\u001b[0mxt\u001b[0m\u001b[0;34m+\u001b[0m\u001b[0mxv\u001b[0m\u001b[0;34m)\u001b[0m\u001b[0;34m\u001b[0m\u001b[0m\n\u001b[0m\u001b[1;32m      7\u001b[0m     \u001b[0mdictionary\u001b[0m \u001b[0;34m=\u001b[0m \u001b[0md\u001b[0m\u001b[0;34m.\u001b[0m\u001b[0mkeys\u001b[0m\u001b[0;34m(\u001b[0m\u001b[0;34m)\u001b[0m\u001b[0;34m\u001b[0m\u001b[0m\n\u001b[1;32m      8\u001b[0m \u001b[0;34m\u001b[0m\u001b[0m\n",
      "\u001b[0;32m<ipython-input-9-353a7efc5b89>\u001b[0m in \u001b[0;36mbuild_LM\u001b[0;34m(dataset)\u001b[0m\n\u001b[1;32m     45\u001b[0m     \u001b[0;31m# Adding counts\u001b[0m\u001b[0;34m\u001b[0m\u001b[0;34m\u001b[0m\u001b[0m\n\u001b[1;32m     46\u001b[0m     \u001b[0;32mfor\u001b[0m \u001b[0msentence\u001b[0m \u001b[0;32min\u001b[0m \u001b[0mdataset\u001b[0m\u001b[0;34m:\u001b[0m\u001b[0;34m\u001b[0m\u001b[0m\n\u001b[0;32m---> 47\u001b[0;31m         \u001b[0msentence\u001b[0m \u001b[0;34m=\u001b[0m \u001b[0msentence\u001b[0m\u001b[0;34m.\u001b[0m\u001b[0msplit\u001b[0m\u001b[0;34m(\u001b[0m\u001b[0;34m)\u001b[0m\u001b[0;34m\u001b[0m\u001b[0m\n\u001b[0m\u001b[1;32m     48\u001b[0m         \u001b[0monce\u001b[0m \u001b[0;34m=\u001b[0m \u001b[0;34m[\u001b[0m\u001b[0;34m]\u001b[0m \u001b[0;31m# Keepping track of words in the sentence that has been added to the language model\u001b[0m\u001b[0;34m\u001b[0m\u001b[0m\n\u001b[1;32m     49\u001b[0m         \u001b[0;32mfor\u001b[0m \u001b[0mword\u001b[0m \u001b[0;32min\u001b[0m \u001b[0msentence\u001b[0m\u001b[0;34m:\u001b[0m\u001b[0;34m\u001b[0m\u001b[0m\n",
      "\u001b[0;31mAttributeError\u001b[0m: 'numpy.ndarray' object has no attribute 'split'"
     ]
    }
   ],
   "source": [
    "fX_train, fy_train, fX_test, fy_test, fX_val, fy_val = get_datasets(fake_data)\n",
    "rX_train, ry_train, rX_test, ry_test, rX_val, ry_val = get_datasets(real_data)\n",
    "\n",
    "X_train = fX_train + rX_train\n",
    "y_train = fy_train + ry_train\n",
    "X_val = fX_val + rX_val\n",
    "y_val = fy_val + ry_val\n",
    "X_test = fX_test + rX_test\n",
    "y_test = fy_test + ry_test\n",
    "\n",
    "# LM = build_LM(X_train)\n",
    "# word_list = list(LM.keys())     # len(word_list) = 4820\n",
    "# X_train = get_mapped_matrix(X_train, word_list)\n",
    "# X_val = get_mapped_matrix(X_val, word_list)\n",
    "# X_test = get_mapped_matrix(X_test, word_list)\n",
    "# save_data(X_train, 'X_train_logistic')\n",
    "# save_data(X_val, 'X_val_logistic')\n",
    "# save_data(X_test, 'X_test_logistic')\n",
    "\n",
    "X_train = load_data('X_train_logistic')\n",
    "X_val = load_data('X_val_logistic')\n",
    "X_test = load_data('X_test_logistic')\n",
    "\n",
    "part7a(X_train, y_train, X_val, y_val)"
   ]
  }
 ],
 "metadata": {
  "kernelspec": {
   "display_name": "Python 2",
   "language": "python",
   "name": "python2"
  },
  "language_info": {
   "codemirror_mode": {
    "name": "ipython",
    "version": 2
   },
   "file_extension": ".py",
   "mimetype": "text/x-python",
   "name": "python",
   "nbconvert_exporter": "python",
   "pygments_lexer": "ipython2",
   "version": "2.7.14"
  }
 },
 "nbformat": 4,
 "nbformat_minor": 2
}
